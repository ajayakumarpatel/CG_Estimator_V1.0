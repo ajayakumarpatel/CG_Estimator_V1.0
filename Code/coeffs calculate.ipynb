{
 "cells": [
  {
   "cell_type": "code",
   "execution_count": 2,
   "id": "084740b0-225a-49ed-af9f-b6b77bbe318a",
   "metadata": {},
   "outputs": [],
   "source": [
    "import pandas as pd\n",
    "import matplotlib.pyplot as plt\n",
    "import numpy as np\n",
    "\n",
    "def find_coeff(I_column_name, df, degree = 9):\n",
    "    I = df[I_column_name].values\n",
    "    mass = df['Mass (kg)'].values\n",
    "    A = np.vstack([mass**i for i in range(degree+1)]).T\n",
    "    B = I\n",
    "    coeff = np.matmul(np.linalg.inv(A), B)\n",
    "    return coeff"
   ]
  },
  {
   "cell_type": "code",
   "execution_count": 4,
   "id": "a8289563-74d0-45d3-aba1-b6a793919be3",
   "metadata": {},
   "outputs": [],
   "source": [
    "input_path = 'C://Users//akpat//Desktop//Agnikul//90 days plan//CG Model//CG Estimator V1.0//train data//'"
   ]
  },
  {
   "cell_type": "code",
   "execution_count": 6,
   "id": "8091ccca-82cd-4f07-9091-8a985f12fb29",
   "metadata": {},
   "outputs": [
    {
     "data": {
      "text/html": [
       "<div>\n",
       "<style scoped>\n",
       "    .dataframe tbody tr th:only-of-type {\n",
       "        vertical-align: middle;\n",
       "    }\n",
       "\n",
       "    .dataframe tbody tr th {\n",
       "        vertical-align: top;\n",
       "    }\n",
       "\n",
       "    .dataframe thead th {\n",
       "        text-align: right;\n",
       "    }\n",
       "</style>\n",
       "<table border=\"1\" class=\"dataframe\">\n",
       "  <thead>\n",
       "    <tr style=\"text-align: right;\">\n",
       "      <th></th>\n",
       "      <th>Mass (kg)</th>\n",
       "      <th>r_cg_x (mm)</th>\n",
       "      <th>r_cg_y (mm)</th>\n",
       "      <th>r_cg_z (mm)</th>\n",
       "      <th>Ixx (kg mm2)</th>\n",
       "      <th>Iyx (kg mm2)</th>\n",
       "      <th>Iyy (kg mm2)</th>\n",
       "      <th>Izx (kg mm2)</th>\n",
       "      <th>Izy (kg mm2)</th>\n",
       "      <th>Izz (kg mm2)</th>\n",
       "    </tr>\n",
       "  </thead>\n",
       "  <tbody>\n",
       "    <tr>\n",
       "      <th>0</th>\n",
       "      <td>6.836</td>\n",
       "      <td>-2830.176</td>\n",
       "      <td>0</td>\n",
       "      <td>0</td>\n",
       "      <td>1.563055e+05</td>\n",
       "      <td>0.0</td>\n",
       "      <td>5.483686e+07</td>\n",
       "      <td>0.0</td>\n",
       "      <td>0.0</td>\n",
       "      <td>5.483686e+07</td>\n",
       "    </tr>\n",
       "    <tr>\n",
       "      <th>1</th>\n",
       "      <td>25.684</td>\n",
       "      <td>-2778.406</td>\n",
       "      <td>0</td>\n",
       "      <td>0</td>\n",
       "      <td>1.085497e+06</td>\n",
       "      <td>0.0</td>\n",
       "      <td>1.988508e+08</td>\n",
       "      <td>0.0</td>\n",
       "      <td>0.0</td>\n",
       "      <td>1.988508e+08</td>\n",
       "    </tr>\n",
       "    <tr>\n",
       "      <th>2</th>\n",
       "      <td>54.055</td>\n",
       "      <td>-2727.733</td>\n",
       "      <td>0</td>\n",
       "      <td>0</td>\n",
       "      <td>3.149480e+06</td>\n",
       "      <td>0.0</td>\n",
       "      <td>4.039479e+08</td>\n",
       "      <td>0.0</td>\n",
       "      <td>0.0</td>\n",
       "      <td>4.039479e+08</td>\n",
       "    </tr>\n",
       "    <tr>\n",
       "      <th>3</th>\n",
       "      <td>89.457</td>\n",
       "      <td>-2678.404</td>\n",
       "      <td>0</td>\n",
       "      <td>0</td>\n",
       "      <td>6.347931e+06</td>\n",
       "      <td>0.0</td>\n",
       "      <td>6.454554e+08</td>\n",
       "      <td>0.0</td>\n",
       "      <td>0.0</td>\n",
       "      <td>6.454554e+08</td>\n",
       "    </tr>\n",
       "    <tr>\n",
       "      <th>4</th>\n",
       "      <td>129.402</td>\n",
       "      <td>-2630.740</td>\n",
       "      <td>0</td>\n",
       "      <td>0</td>\n",
       "      <td>1.041301e+07</td>\n",
       "      <td>0.0</td>\n",
       "      <td>9.019794e+08</td>\n",
       "      <td>0.0</td>\n",
       "      <td>0.0</td>\n",
       "      <td>9.019794e+08</td>\n",
       "    </tr>\n",
       "  </tbody>\n",
       "</table>\n",
       "</div>"
      ],
      "text/plain": [
       "   Mass (kg)  r_cg_x (mm)  r_cg_y (mm)  r_cg_z (mm)  Ixx (kg mm2)  \\\n",
       "0      6.836    -2830.176            0            0  1.563055e+05   \n",
       "1     25.684    -2778.406            0            0  1.085497e+06   \n",
       "2     54.055    -2727.733            0            0  3.149480e+06   \n",
       "3     89.457    -2678.404            0            0  6.347931e+06   \n",
       "4    129.402    -2630.740            0            0  1.041301e+07   \n",
       "\n",
       "   Iyx (kg mm2)  Iyy (kg mm2)  Izx (kg mm2)  Izy (kg mm2)  Izz (kg mm2)  \n",
       "0           0.0  5.483686e+07           0.0           0.0  5.483686e+07  \n",
       "1           0.0  1.988508e+08           0.0           0.0  1.988508e+08  \n",
       "2           0.0  4.039479e+08           0.0           0.0  4.039479e+08  \n",
       "3           0.0  6.454554e+08           0.0           0.0  6.454554e+08  \n",
       "4           0.0  9.019794e+08           0.0           0.0  9.019794e+08  "
      ]
     },
     "execution_count": 6,
     "metadata": {},
     "output_type": "execute_result"
    }
   ],
   "source": [
    "df = pd.read_csv(input_path+'S2_ATF.csv')\n",
    "df = df.drop([0]).reset_index(drop = True)\n",
    "df.head()"
   ]
  },
  {
   "cell_type": "code",
   "execution_count": 8,
   "id": "0e94ec2a-acb8-46c4-9bc7-4c905f8a2da4",
   "metadata": {},
   "outputs": [
    {
     "data": {
      "text/plain": [
       "array([-2.85723287e+03,  4.43499799e+00, -7.76118365e-02,  1.22998348e-03,\n",
       "       -1.28623351e-05,  8.73195264e-08, -3.79929966e-10,  1.02028517e-12,\n",
       "       -1.53753450e-15,  9.93680239e-19])"
      ]
     },
     "execution_count": 8,
     "metadata": {},
     "output_type": "execute_result"
    }
   ],
   "source": [
    "coeffs_df = pd.DataFrame()\n",
    "I_column_name = 'r_cg_x (mm)'\n",
    "coeffs = find_coeff(I_column_name, df)\n",
    "coeffs_df[I_column_name[:3]] = coeffs\n",
    "\n",
    "def cg_x_func(mass_values):\n",
    "    # coeffs = coeffs\n",
    "    return np.sum([coeffs[i] * (mass_values**i) for i in range(len(coeffs))], axis=0)\n",
    "coeffs"
   ]
  },
  {
   "cell_type": "code",
   "execution_count": 68,
   "id": "9f6622af-fe76-494f-9636-bd37786e9f1e",
   "metadata": {},
   "outputs": [
    {
     "data": {
      "text/plain": [
       "<matplotlib.legend.Legend at 0x29b87e67680>"
      ]
     },
     "execution_count": 68,
     "metadata": {},
     "output_type": "execute_result"
    },
    {
     "data": {
      "image/png": "[encoded data removed]",
      "text/plain": [
       "<Figure size 640x480 with 1 Axes>"
      ]
     },
     "metadata": {},
     "output_type": "display_data"
    }
   ],
   "source": [
    "test_point = np.linspace(0,4000,361)\n",
    "y = []\n",
    "for i in range(len(test_point)):\n",
    "    y.append(cg_x_func(test_point[i]))\n",
    "\n",
    "plt.plot(test_point, y, label = 'test data')\n",
    "plt.scatter(df['Mass (kg)'], df['r_cg_x (mm)'], label = 'train data')\n",
    "plt.legend()"
   ]
  },
  {
   "cell_type": "code",
   "execution_count": 56,
   "id": "6e48e306-c4aa-4c86-9bcf-1ac805b1b04a",
   "metadata": {},
   "outputs": [
    {
     "data": {
      "text/plain": [
       "23423.46875"
      ]
     },
     "execution_count": 56,
     "metadata": {},
     "output_type": "execute_result"
    }
   ],
   "source": [
    "m_total = 34070.5\n",
    "m_atf = m_total/3.2\n",
    "m_lox = m_total - m_atf\n",
    "m_lox"
   ]
  },
  {
   "cell_type": "code",
   "execution_count": 58,
   "id": "f869cf6c-a249-45d9-beb8-2cd010a135ef",
   "metadata": {},
   "outputs": [
    {
     "data": {
      "text/plain": [
       "7807.822916666667"
      ]
     },
     "execution_count": 58,
     "metadata": {},
     "output_type": "execute_result"
    }
   ],
   "source": [
    "m_lox/3"
   ]
  },
  {
   "cell_type": "code",
   "execution_count": null,
   "id": "1df8c729-a364-40f8-bdbc-6a6866d3241b",
   "metadata": {},
   "outputs": [],
   "source": []
  }
 ],
 "metadata": {
  "kernelspec": {
   "display_name": "Python 3 (ipykernel)",
   "language": "python",
   "name": "python3"
  },
  "language_info": {
   "codemirror_mode": {
    "name": "ipython",
    "version": 3
   },
   "file_extension": ".py",
   "mimetype": "text/x-python",
   "name": "python",
   "nbconvert_exporter": "python",
   "pygments_lexer": "ipython3",
   "version": "3.12.4"
  }
 },
 "nbformat": 4,
 "nbformat_minor": 5
}
